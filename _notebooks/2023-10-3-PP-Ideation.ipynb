{
 "cells": [
  {
   "cell_type": "markdown",
   "metadata": {},
   "source": [
    "---\n",
    "toc: true\n",
    "comments: true\n",
    "layout: post\n",
    "title: CB 3.7,3.8 - Iteration in Python\n",
    "description: Lesson for iteration in Python, using College Board lessons 3.7 & 3.8.\n",
    "type: plans\n",
    "courses: { compsci: {week: 7} }\n",
    "---"
   ]
  },
  {
   "cell_type": "markdown",
   "metadata": {},
   "source": [
    "# Theme\n",
    "We brought our heads together and found two common interests:\n",
    "The 2008 show by AMC, *Breaking Bad* and...music(two **very** different things).\n",
    "We wanted to tailor things to these two topics, so here we go:"
   ]
  },
  {
   "cell_type": "markdown",
   "metadata": {},
   "source": [
    "# Breaking Bad\n",
    "- We are planning to mainly incorporate this through CSS and visuals(frontend)\n",
    "- Using art, stylistic elements, etc. from the show\n",
    "- Also incorporating it into our projects with some references here and there"
   ]
  },
  {
   "cell_type": "markdown",
   "metadata": {},
   "source": [
    "# Music\n",
    "Main Project - AI Playlist\n",
    "- Gets your favorite songs(User Input) and songs used in Breaking Bad(Backend API)\n",
    "- Creates an AI playlist blend that you're sure to enjoy(hopefully)"
   ]
  }
 ],
 "metadata": {
  "language_info": {
   "name": "python"
  }
 },
 "nbformat": 4,
 "nbformat_minor": 2
}
