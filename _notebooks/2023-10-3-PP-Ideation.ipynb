{
 "cells": [
  {
   "cell_type": "markdown",
   "metadata": {},
   "source": [
    "---\n",
    "toc: true\n",
    "comments: true\n",
    "layout: post\n",
    "title: Passion Project Ideation Checkpoint\n",
    "description: Our ideation plan for the passion project(very simple right now).\n",
    "type: plans\n",
    "courses: { compsci: {week: 7} }\n",
    "---"
   ]
  },
  {
   "cell_type": "markdown",
   "metadata": {},
   "source": [
    "# Theme\n",
    "We brought our heads together and found two common interests:\n",
    "The 2008 show by AMC, *Breaking Bad* and...music(two **very** different things).\n",
    "We wanted to tailor things to these two topics, so here we go:"
   ]
  },
  {
   "cell_type": "markdown",
   "metadata": {},
   "source": [
    "# Breaking Bad\n",
    "- We are planning to mainly incorporate this through CSS and visuals(frontend)\n",
    "- Using art, stylistic elements, etc. from the show\n",
    "- Also incorporating it into our projects with some references here and there"
   ]
  },
  {
   "cell_type": "markdown",
   "metadata": {},
   "source": [
    "# Music\n",
    "Main Project - AI Music Compare\n",
    "- Gets your favorite songs(User Input) and songs used in Breaking Bad(Backend API)\n",
    "- Gives song recommendations\n",
    "- Get songs from the show based on certain criteria\n",
    "  - Genre, length, artist, etc.\n",
    "  - Use JSquery tables to format songs for different characters\n",
    "\n",
    "![Frontend Wireframe]({{ site.baseurl }}/images/Frontend_Wireframe.gif)"
   ]
  },
  {
   "cell_type": "markdown",
   "metadata": {},
   "source": [
    "# Backend Strategy\n",
    "\n",
    "- Use webscraping and APIs to get data\n",
    "- Using AI models to format data\n",
    "More detailed diagram below:\n",
    "\n",
    "![UML Backend Diagram]({{ site.baseurl }}/images/Backend_UML.png)"
   ]
  }
 ],
 "metadata": {
  "language_info": {
   "name": "python"
  }
 },
 "nbformat": 4,
 "nbformat_minor": 2
}
