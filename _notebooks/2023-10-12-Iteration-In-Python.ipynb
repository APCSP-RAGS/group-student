{
 "cells": [
  {
   "cell_type": "markdown",
   "metadata": {},
   "source": [
    "---\n",
    "toc: true\n",
    "comments: true\n",
    "layout: post\n",
    "title: CB 3.7,3.8 - Iteration in Python\n",
    "description: Lesson for iteration in Python, using College Board lessons 3.7 & 3.8.\n",
    "type: tangibles\n",
    "author: Advik Garg, Srijan Atti, Akhil Singamneni, Aashray Rajagopalan\n",
    "courses: { compsci: {week: 7} }\n",
    "---"
   ]
  },
  {
   "cell_type": "markdown",
   "metadata": {},
   "source": [
    "# Introduction\n",
    "In this lesson, we will explore the various ways to create loops in Python. Loops are essential for repetitive tasks and are a fundamental concept in programming. We will cover different types of loops, advanced loop techniques, and how to work with lists and dictionaries using loops."
   ]
  },
  {
   "cell_type": "markdown",
   "metadata": {},
   "source": [
    "## For Loops\n",
    "A `for` loop is used to iterate over a sequence (such as a list, tuple, or string) and execute a block of code for each item in the sequence."
   ]
  },
  {
   "cell_type": "code",
   "execution_count": null,
   "metadata": {},
   "outputs": [],
   "source": [
    "# Example 1: Simple for loop\n",
    "fruits = [\"apple\", \"banana\", \"cherry\"]\n",
    "for fruit in fruits:\n",
    "    print(fruit)"
   ]
  },
  {
   "cell_type": "markdown",
   "metadata": {},
   "source": [
    "## While Loops\n",
    "A while loop is used to execute a block of code as long as a condition is true."
   ]
  },
  {
   "cell_type": "code",
   "execution_count": null,
   "metadata": {},
   "outputs": [],
   "source": [
    "# Example 2: Simple while loop\n",
    "i = 1\n",
    "while i <= 5:\n",
    "    print(i)\n",
    "    i += 1"
   ]
  },
  {
   "cell_type": "markdown",
   "metadata": {},
   "source": [
    "## Looping with Lists and Dictionaries\n",
    "Loops are often used to iterate through the elements of lists and dictionaries."
   ]
  },
  {
   "cell_type": "code",
   "execution_count": null,
   "metadata": {},
   "outputs": [],
   "source": [
    "# Example 3: Loop through a list\n",
    "numbers = [1, 2, 3, 4, 5]\n",
    "for num in numbers:\n",
    "    print(num)\n",
    "\n",
    "# Example 4: Loop through a dictionary\n",
    "person = {\"name\": \"aashray\", \"age\": 15, \"city\": \"San Diego\"}\n",
    "for key, value in person.items():\n",
    "    print(key, \":\", value)\n"
   ]
  },
  {
   "cell_type": "markdown",
   "metadata": {},
   "source": [
    "# Popcorn Hack 1\n",
    "\n",
    "- Use a loop to get X amount of inputs. Then use a loop to find the type of each value.\n",
    "\n",
    "- Extra Challenge: If an input is a number, make the corresponding value in the dictionary a number."
   ]
  },
  {
   "cell_type": "code",
   "execution_count": null,
   "metadata": {},
   "outputs": [],
   "source": [
    "sample_dict = {}\n",
    "\n",
    "# Code goes here"
   ]
  },
  {
   "cell_type": "markdown",
   "metadata": {},
   "source": [
    "## Looping with Index Variable\n",
    "You can use the `range` function to create a loop with an index variable."
   ]
  },
  {
   "cell_type": "code",
   "execution_count": null,
   "metadata": {},
   "outputs": [],
   "source": [
    "# Example 5: Loop with an index variable\n",
    "\n",
    "lst = [4, 6, 7, 2, 6, 8]\n",
    "\n",
    "for i in len(lst): # Loop for the number of elements in the list\n",
    "    print(i) # Print the index\n",
    "    print(lst[i]) # Print the element"
   ]
  },
  {
   "cell_type": "markdown",
   "metadata": {},
   "source": [
    "## Nested If Statements\n",
    "You can nest conditional statements inside a `for` loop to execute different code based on conditions."
   ]
  },
  {
   "cell_type": "code",
   "execution_count": null,
   "metadata": {},
   "outputs": [],
   "source": [
    "# Example 6: For loop with nested if statements\n",
    "numbers = [1, 2, 3, 4, 5]\n",
    "for num in numbers:\n",
    "    if num % 2 == 0:\n",
    "        print(num, \"is even\")\n",
    "    else:\n",
    "        print(num, \"is odd\")"
   ]
  },
  {
   "cell_type": "markdown",
   "metadata": {},
   "source": [
    "# Popcorn Hack 2\n",
    "\n",
    "- Use the input() function to append a range of integers from a list\n",
    "\n",
    "- Use a nested if statement to only print numbers in the list that are evenly divisble by 3"
   ]
  },
  {
   "cell_type": "code",
   "execution_count": null,
   "metadata": {},
   "outputs": [],
   "source": [
    "nums = []\n",
    "\n",
    "#Code goes here"
   ]
  },
  {
   "cell_type": "markdown",
   "metadata": {},
   "source": [
    "## Try/Except\n",
    "Using a `try` and `except` block inside a loop can handle errors gracefully.\n",
    "This is very useful for production code, even in frontend webapps(Ex: Giving an error page instead of dumping critical information on the webpage)"
   ]
  },
  {
   "cell_type": "code",
   "execution_count": null,
   "metadata": {},
   "outputs": [],
   "source": [
    "numbers = [1, 2, \"three\", 4, \"five\"]\n",
    "\n",
    "for item in numbers:\n",
    "    try:\n",
    "        print(10 / item)\n",
    "    except ZeroDivisionError: #Type of error: Dividing by Zero\n",
    "        print(\"Division by zero\")\n",
    "    except TypeError: #Type of error: Dividing by something that isn't a number\n",
    "        print(\"Type error\")"
   ]
  },
  {
   "cell_type": "markdown",
   "metadata": {},
   "source": [
    "# Popcorn Hack 3\n",
    "- Create a for loop that uses a try and except statement for an AttributeError\n",
    "- Use integers and a list to create scenarios where the loop will either print something expected or print an error message\n",
    "- **CHALLENGE:** Try using the `math` module for this error"
   ]
  },
  {
   "cell_type": "code",
   "execution_count": null,
   "metadata": {},
   "outputs": [],
   "source": [
    "numbers = []\n",
    "\n",
    "# Code goes here"
   ]
  },
  {
   "cell_type": "markdown",
   "metadata": {},
   "source": [
    "## Continue and Break\n",
    "The `continue` statement skips the current iteration, while the `break` statement exits the loop prematurely."
   ]
  },
  {
   "cell_type": "code",
   "execution_count": null,
   "metadata": {},
   "outputs": [],
   "source": [
    "# Example 8: For loop with continue and break\n",
    "numbers = [1, 2, 3, 4, 5]\n",
    "for num in numbers:\n",
    "    if num == 3:\n",
    "        continue  # Skip the number 3\n",
    "    if num == 5:\n",
    "        break  # Exit the loop when 5 is encountered\n",
    "    print(num)"
   ]
  },
  {
   "cell_type": "markdown",
   "metadata": {},
   "source": [
    "## Iteration via Recursion\n",
    "Recursion is a technique where a function calls itself. This can be used to recreate loops until a certain condition is met."
   ]
  },
  {
   "cell_type": "code",
   "execution_count": null,
   "metadata": {},
   "outputs": [],
   "source": [
    "# Example 9: Recursion for factorial calculation\n",
    "def factorial(n):\n",
    "    if n == 0: #Condition to stop the recursion\n",
    "        return 1\n",
    "    else:\n",
    "        return n * factorial(n - 1) #Function calling itself\n",
    "\n",
    "result = factorial(5)\n",
    "print(\"Factorial of 5 is\", result)"
   ]
  },
  {
   "cell_type": "markdown",
   "metadata": {},
   "source": [
    "# Homework\n",
    "\n",
    "- Add student names w/ grades until the user doesn't want more students\n",
    "    - Prompt for user input for all of these\n",
    "\n",
    "\n",
    "- Use a nested if/else statement in a for loop \n",
    "    - Get the highest score in the dictionary\n",
    "    - Add all students who passed into a new list (add student names, not their scores)\n",
    "\n",
    "\n",
    "\n",
    "- Bonus: Use a try/except for any scores that aren't integers "
   ]
  },
  {
   "cell_type": "code",
   "execution_count": null,
   "metadata": {},
   "outputs": [],
   "source": [
    "students = {}\n",
    "\n",
    "#Code goes here"
   ]
  }
 ],
 "metadata": {
  "kernelspec": {
   "display_name": "Python 3",
   "language": "python",
   "name": "python3"
  },
  "language_info": {
   "codemirror_mode": {
    "name": "ipython",
    "version": 3
   },
   "file_extension": ".py",
   "mimetype": "text/x-python",
   "name": "python",
   "nbconvert_exporter": "python",
   "pygments_lexer": "ipython3",
   "version": "3.10.12"
  }
 },
 "nbformat": 4,
 "nbformat_minor": 2
}
