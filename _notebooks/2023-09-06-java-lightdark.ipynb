{
 "cells": [
  {
   "cell_type": "markdown",
   "metadata": {},
   "source": [
    "---\n",
    "# this is YAML front matter\n",
    "toc: true\n",
    "comments: true\n",
    "layout: post\n",
    "title: Java Light/Dark Theme\n",
    "description: Used Java localStorage to include a Light/Dark theme that runs across pages\n",
    "courses: { compsci: { week: 3 }}\n",
    "type: hacks\n",
    "---"
   ]
  },
  {
   "cell_type": "markdown",
   "metadata": {},
   "source": [
    "# Implementation & Code\n",
    "\n",
    "We put this code in the ./_includes/header.html. This file stores the HTML code for the clickable links that lead to each page(Blogs, Time Box Page, Home, etc.). This made sure that the button would always show up on the left for ease of access."
   ]
  },
  {
   "cell_type": "code",
   "execution_count": 1,
   "metadata": {},
   "outputs": [
    {
     "data": {
      "text/html": [
       "\n",
       "<head>\n",
       "    <!-- load jQuery and DataTables output style and scripts -->\n",
       "    <link rel=\"stylesheet\" type=\"text/css\" href=\"https://cdn.datatables.net/1.13.4/css/jquery.dataTables.min.css\">\n",
       "    <script type=\"text/javascript\" language=\"javascript\" src=\"https://code.jquery.com/jquery-3.6.0.min.js\"></script>\n",
       "    <script>var define = null;</script>\n",
       "    <script type=\"text/javascript\" language=\"javascript\" src=\"https://cdn.datatables.net/1.13.4/js/jquery.dataTables.min.js\"></script>\n",
       "</head>\n",
       "\n",
       "\n",
       "<script>\n",
       "    function showPosition(position) {\n",
       "        var latitude = position.coords.latitude;\n",
       "        var longitude = position.coords.longitude;\n",
       "    }\n",
       "    navigator.geolocation.getCurrentPosition(showPosition);\n",
       "    \n",
       "</script>\n",
       "\n",
       "\n"
      ],
      "text/plain": [
       "<IPython.core.display.HTML object>"
      ]
     },
     "metadata": {},
     "output_type": "display_data"
    }
   ],
   "source": [
    "%%javascript\n",
    "\n",
    "var preferDark = window.localStorage.getItem('preferDark'); \n",
    "// Initialize the preferDark variable if it doesn't exist\n",
    "if (preferDark !== 'true' && preferDark !== 'false') {\n",
    "  window.localStorage.setItem('preferDark', 'false');\n",
    "  preferDark = window.localStorage.getItem('preferDark');\n",
    "}\n",
    "// toggleMode function invoked by CSS button\n",
    "function toggleMode() {\n",
    "    if (preferDark === 'true') {\n",
    "      lightMode();\n",
    "      preferDark = 'false';\n",
    "    } else {\n",
    "      darkMode();\n",
    "      preferDark = 'true';\n",
    "    }\n",
    "    window.localStorage.setItem('preferDark', preferDark);\n",
    "  }\n",
    "function darkMode() {\n",
    "  var headers = document.querySelectorAll(\"h1, h2, h3, h4, h5, h6\");\n",
    "  headers.forEach(function(header) {\n",
    "    header.classList.add(\"header-dark\");\n",
    "  });\n",
    "  var images = document.querySelectorAll(\"img\");\n",
    "  images.forEach(function(image) {\n",
    "    image.classList.add(\"image-dark\");\n",
    "  });\n",
    "  var element = document.body;\n",
    "  element.classList.add(\"dark-mode\");\n",
    "  var elem = document.querySelectorAll(\"#border\");\n",
    "  elem.forEach(function(border) {\n",
    "    border.classList.add(\"border-dark\");\n",
    "    });\n",
    "  var bars = document.querySelectorAll(\"#bar\");\n",
    "  bars.forEach(function(bar) {\n",
    "    bar.classList.add(\"bar-dark\");\n",
    "    });\n",
    "  var cellz = document.querySelectorAll(\"#cells\");\n",
    "  cellz.forEach(function(cells) {\n",
    "    cells.classList.add(\"cell\");\n",
    "    cells.classList.add(\"cells-dark\");\n",
    "    });\n",
    "  var tables = document.querySelectorAll(\"#table\");\n",
    "  tables.forEach(function(table) {\n",
    "    // table.classList.add(\"myTable\")\n",
    "    table.classList.add(\"table-dark\");\n",
    "    });\n",
    "    document.body.classList.add('dark-mode');\n",
    "}\n",
    "function lightMode() {\n",
    "  var headers = document.querySelectorAll(\"h1, h2, h3, h4, h5, h6\");\n",
    "  headers.forEach(function(header) {\n",
    "    header.classList.remove(\"header-dark\");\n",
    "  });\n",
    "  var images = document.querySelectorAll(\"img\");\n",
    "  images.forEach(function(image) {\n",
    "    image.classList.remove(\"image-dark\");\n",
    "  });\n",
    "  var element = document.body;\n",
    "  element.classList.remove(\"dark-mode\");\n",
    "  var elem = document.querySelectorAll(\"#border\");\n",
    "  elem.forEach(function(border) {\n",
    "    border.classList.remove(\"border-dark\");\n",
    "    });\n",
    "  var bars = document.querySelectorAll(\"#bar\");\n",
    "  bars.forEach(function(bar) {\n",
    "    bar.classList.remove(\"bar-dark\");\n",
    "    });\n",
    "  var cellz = document.querySelectorAll(\"#cells\");\n",
    "  cellz.forEach(function(cells) {\n",
    "    cells.classList.remove(\"cell\");\n",
    "    cells.classList.remove(\"cells-dark\");\n",
    "    });\n",
    "  var tables = document.querySelectorAll(\"#table\");\n",
    "  tables.forEach(function(table) {\n",
    "    // table.classList.remove(\"myTable\")\n",
    "    table.classList.remove(\"table-dark\");\n",
    "    });\n",
    "    document.body.classList.remove('dark-mode');\n",
    "}\n",
    "document.addEventListener(\"DOMContentLoaded\", function() {\n",
    "  if (preferDark == 'true') {\n",
    "  darkMode();\n",
    "} else {\n",
    "  lightMode();\n",
    "}\n",
    "});"
   ]
  },
  {
   "cell_type": "markdown",
   "metadata": {},
   "source": [
    "# ChatGPT Review\n",
    "The code you provided appears to be a JavaScript implementation for toggling between light and dark themes on a web page. Overall, it accomplishes its intended functionality, but there are some improvements and suggestions that can be made to enhance the code's readability and maintainability:\n",
    "\n",
    "<b>Variable Names and Comments</b>: Meaningful variable and function names are crucial for code readability. Consider using more descriptive names to make the code self-explanatory. Also, add comments to explain the purpose of functions and sections of the code.\n",
    "\n",
    "<b>Separation of Concerns</b>: It's a good practice to separate the JavaScript code from the HTML and CSS. You can achieve this by defining your themes in CSS classes and using JavaScript only for toggling these classes.\n",
    "\n",
    "<b>DRY (Don't Repeat Yourself) Principle</b>: The darkMode and lightMode functions have a lot of repetitive code. You can make this code more concise by using a loop to add or remove classes dynamically based on the elements you want to style.\n",
    "\n",
    "<b>QuerySelectors</b>: Consider using more specific selectors to target elements. Currently, you are using generic selectors like \"h1, h2, h3, h4, h5, h6\" and \"img,\" which can affect unintended elements on your page.\n",
    "\n",
    "<b>Event Listeners</b>: Use event delegation to handle theme toggling efficiently, rather than attaching click events to individual buttons or elements."
   ]
  }
 ],
 "metadata": {
  "kernelspec": {
   "display_name": "Python 3",
   "language": "python",
   "name": "python3"
  },
  "language_info": {
   "codemirror_mode": {
    "name": "ipython",
    "version": 3
   },
   "file_extension": ".py",
   "mimetype": "text/x-python",
   "name": "python",
   "nbconvert_exporter": "python",
   "pygments_lexer": "ipython3",
   "version": "3.10.12"
  },
  "orig_nbformat": 4
 },
 "nbformat": 4,
 "nbformat_minor": 2
}
