{
 "cells": [
  {
   "cell_type": "markdown",
   "metadata": {},
   "source": [
    "---\n",
    "layout: post\n",
    "comments: true\n",
    "toc: true\n",
    "title: 1.4 Correcting errors\n",
    "description: Practice with identifying and correcting code blocks\n",
    "type: ccc\n",
    "author: Safin Singh and Rohan Juneja\n",
    "permalink: /basics/js-debug\n",
    "hide: True\n",
    "---"
   ]
  },
  {
   "cell_type": "markdown",
   "metadata": {},
   "source": [
    "{% include nav_basics.html %}"
   ]
  },
  {
   "cell_type": "markdown",
   "metadata": {},
   "source": [
    "[College Board Big Idea 1](https://apclassroom.collegeboard.org/103/home?unit=1)\n",
    "\n",
    "## Identifying and Correcting Errors (Unit 1.4)\n",
    "\n",
    "> Become familiar with types of errors and strategies for fixing them\n",
    "\n",
    "- Review CollegeBoard videos and take notes on blog\n",
    "- Complete assigned MCQ questions if applicable"
   ]
  },
  {
   "cell_type": "markdown",
   "metadata": {},
   "source": [
    "# Code Segments\n",
    "\n",
    "Practice fixing the following code segments!"
   ]
  },
  {
   "cell_type": "markdown",
   "metadata": {},
   "source": [
    "## Segment 1: Alphabet List\n",
    "\n",
    "Intended behavior: create a list of characters from the string contained in the variable `alphabet`\n",
    "\n",
    "### Code:"
   ]
  },
  {
   "cell_type": "code",
   "execution_count": 3,
   "metadata": {
    "vscode": {
     "languageId": "javascript"
    }
   },
   "outputs": [
    {
     "data": {
      "application/javascript": [
       "\n",
       "var alphabet = \"abcdefghijklmnopqrstuvwxyz\";\n",
       "var alphabetList = [];\n",
       "\n",
       "for (var i = 0; i < alphabet.length; i++) {\n",
       "\talphabetList.push(alphabet[i]);\n",
       "}\n",
       "\n",
       "console.log(alphabetList);\n"
      ],
      "text/plain": [
       "<IPython.core.display.Javascript object>"
      ]
     },
     "metadata": {},
     "output_type": "display_data"
    }
   ],
   "source": [
    "%%js\n",
    "\n",
    "var alphabet = \"abcdefghijklmnopqrstuvwxyz\";\n",
    "var alphabetList = [];\n",
    "\n",
    "for (var i = 0; i < alphabet.length; i++) {\n",
    "\talphabetList.push(alphabet[i]);\n",
    "}\n",
    "\n",
    "console.log(alphabetList);"
   ]
  },
  {
   "cell_type": "markdown",
   "metadata": {},
   "source": [
    "### What I Changed\n",
    "\n",
    "I changed the i < 10 in the for loop to i < alphabet.length to let it iterate over the entire alphabet, not just the first 10 characters."
   ]
  },
  {
   "cell_type": "markdown",
   "metadata": {},
   "source": [
    "## Segment 2: Numbered Alphabet\n",
    "\n",
    "Intended behavior: print the number of a given alphabet letter within the alphabet. For example:\n",
    "```\n",
    "\"_\" is letter number _ in the alphabet\n",
    "```\n",
    "\n",
    "Where the underscores (_) are replaced with the letter and the position of that letter within the alphabet (e.g. a=1, b=2, etc.)\n",
    "\n",
    "### Code:"
   ]
  },
  {
   "cell_type": "code",
   "execution_count": 12,
   "metadata": {
    "vscode": {
     "languageId": "javascript"
    }
   },
   "outputs": [
    {
     "data": {
      "application/javascript": [
       "// Copy your previous code to built alphabetList here\n",
       "var alphabet = \"abcdefghijklmnopqrstuvwxyz\";\n",
       "var alphabetList = [];\n",
       "\n",
       "for (var i = 0; i < alphabet.length; i++) {\n",
       "\talphabetList.push(alphabet[i]);\n",
       "}\n",
       "\n",
       "var letterNumber = 5;\n",
       "\n",
       "var letter = alphabetList[letterNumber - 1];\n",
       "console.log(letter + \" is letter number \" + letterNumber + \" in the alphabet\");\n"
      ],
      "text/plain": [
       "<IPython.core.display.Javascript object>"
      ]
     },
     "metadata": {},
     "output_type": "display_data"
    }
   ],
   "source": [
    "%%js\n",
    "// Copy your previous code to built alphabetList here\n",
    "var alphabet = \"abcdefghijklmnopqrstuvwxyz\";\n",
    "var alphabetList = [];\n",
    "\n",
    "for (var i = 0; i < alphabet.length; i++) {\n",
    "\talphabetList.push(alphabet[i]);\n",
    "}\n",
    "\n",
    "var letterNumber = 5;\n",
    "\n",
    "var letter = alphabetList[letterNumber - 1];\n",
    "console.log(letter + \" is letter number \" + letterNumber + \" in the alphabet\");\n"
   ]
  },
  {
   "cell_type": "markdown",
   "metadata": {},
   "source": [
    "### What I Changed\n",
    "\n",
    "I changed:\n",
    "- Removed unecessary for loop\n",
    "- Logged the letter and number, not the number twice\n",
    "- Modified code to fit with any number, it was previoulsy hardcoded for 5"
   ]
  },
  {
   "cell_type": "markdown",
   "metadata": {},
   "source": [
    "## Segment 3: Odd Numbers\n",
    "\n",
    "Intended behavior: print a list of all the odd numbers below 10\n",
    "\n",
    "### Code:"
   ]
  },
  {
   "cell_type": "code",
   "execution_count": 14,
   "metadata": {
    "vscode": {
     "languageId": "javascript"
    }
   },
   "outputs": [
    {
     "data": {
      "application/javascript": [
       "\n",
       "let evens = [];\n",
       "let i = 1;\n",
       "\n",
       "while (i <= 10) {\n",
       "  evens.push(i);\n",
       "  i += 2;\n",
       "}\n",
       "console.log(evens);\n"
      ],
      "text/plain": [
       "<IPython.core.display.Javascript object>"
      ]
     },
     "metadata": {},
     "output_type": "display_data"
    }
   ],
   "source": [
    "%%js\n",
    "\n",
    "let odds = [];\n",
    "let i = 1;\n",
    "\n",
    "while (i <= 10) {\n",
    "  odds.push(i);\n",
    "  i += 2;\n",
    "}\n",
    "console.log(odds);"
   ]
  },
  {
   "cell_type": "markdown",
   "metadata": {},
   "source": [
    "### What I Changed\n",
    "\n",
    "I changed the initial value of i to be 1 instead of 0. Since it was 0, it was prinitng all the even numbers, not odd. I also modified the variable name from evens to odds to make it clear."
   ]
  },
  {
   "cell_type": "markdown",
   "metadata": {},
   "source": [
    "# BELOW NOT EDITED"
   ]
  },
  {
   "cell_type": "markdown",
   "metadata": {},
   "source": [
    "The intended outcome is printing a number between 1 and 100 once, if it is a multiple of 2 or 5 \n",
    "- What values are outputted incorrectly. Why?\n",
    "- Make changes to get the intended outcome."
   ]
  },
  {
   "cell_type": "code",
   "execution_count": 16,
   "metadata": {
    "vscode": {
     "languageId": "javascript"
    }
   },
   "outputs": [
    {
     "data": {
      "application/javascript": [
       "\n",
       "var numbers = []\n",
       "var newNumbers = []\n",
       "var i = 0\n",
       "\n",
       "while (i < 100) {\n",
       "    numbers.push(i)\n",
       "    i += 1\n",
       "}\n",
       "for (var i of numbers) {\n",
       "    if (numbers[i] % 5 === 0 || numbers[i] % 2 === 0)\n",
       "        newNumbers.push(numbers[i])\n",
       "}\n",
       "console.log(newNumbers) \n",
       "\n"
      ],
      "text/plain": [
       "<IPython.core.display.Javascript object>"
      ]
     },
     "metadata": {},
     "output_type": "display_data"
    }
   ],
   "source": [
    "%%js\n",
    "\n",
    "var numbers = []\n",
    "var newNumbers = []\n",
    "var i = 0\n",
    "\n",
    "while (i < 100) {\n",
    "    numbers.push(i)\n",
    "    i += 1\n",
    "}\n",
    "for (var i of numbers) {\n",
    "    if (numbers[i] % 5 === 0 || numbers[i] % 2 === 0) // Make one command in order to only print once, use || for OR logical operation\n",
    "        newNumbers.push(numbers[i])\n",
    "}\n",
    "console.log(newNumbers) \n",
    "\n"
   ]
  },
  {
   "cell_type": "markdown",
   "metadata": {},
   "source": [
    "# Challenge\n",
    "\n",
    "This code segment is at a very early stage of implementation.\n",
    "- What are some ways to (user) error proof this code?\n",
    "- The code should be able to calculate the cost of the meal of the user\n",
    "\n",
    "Hint:\n",
    "- write a “single” test describing an expectation of the program of the program\n",
    "- test - input burger, expect output of burger price\n",
    "- run the test, which should fail because the program lacks that feature\n",
    "- write “just enough” code, the simplest possible, to make the test pass\n",
    "\n",
    "Then repeat this process until you get program working like you want it to work."
   ]
  },
  {
   "cell_type": "code",
   "execution_count": 3,
   "metadata": {
    "vscode": {
     "languageId": "javascript"
    }
   },
   "outputs": [
    {
     "data": {
      "application/javascript": [
       "\n",
       "var menu =  {\"burger\": 3.99,\n",
       "         \"fries\": 1.99,\n",
       "         \"drink\": 0.99}\n",
       "var total = 0;\n",
       "\n",
       "//shows the user the menu and prompts them to select an item\n",
       "console.log(\"Menu\")\n",
       "for (var item in menu) {\n",
       "    console.log(item + \"  $\" + menu[item].toFixed(2)) //why is toFixed used? Used for decimal places, very cool\n",
       "}\n",
       "//ideally the code should support mutliple items (I sense a misspelling in this sentence, do you?)\n",
       "var keep_going = 'N';\n",
       "var order_list = {\n",
       "    '1': 0,\n",
       "    '2': 0,\n",
       "    '3': 0\n",
       "};\n",
       "while (keep_going == 'N') {\n",
       "    order_list[prompt(\"Would you like a burger (1), some fries (2), or a drink (3)?]\")] += parseInt(prompt(\"How many would you like?\"))\n",
       "    var keep_going = prompt(\"Is that it for today? [Y/N]\").toUpperCase() //the toUpperCase makes sure a lowercase y or n is still accepted\n",
       "}\n",
       "\n",
       "\n",
       "//code should add the price of the menu items selected by the user \n",
       "total += menu['burger'] * order_list['1']\n",
       "total += menu['fries'] * order_list['2']\n",
       "total += menu['drink'] * order_list['3']\n",
       "\n",
       "total *= 1.0725\n",
       "var tip = parseInt(prompt(\"Please put the amount in $ that you would like to tip: \"))\n",
       "\n",
       "console.log('$' + total.toFixed(1) + tip)\n"
      ],
      "text/plain": [
       "<IPython.core.display.Javascript object>"
      ]
     },
     "metadata": {},
     "output_type": "display_data"
    }
   ],
   "source": [
    "%%js\n",
    "\n",
    "var menu =  {\"burger\": 3.99,\n",
    "         \"fries\": 1.99,\n",
    "         \"drink\": 0.99}\n",
    "var total = 0;\n",
    "\n",
    "//shows the user the menu and prompts them to select an item\n",
    "console.log(\"Menu\")\n",
    "for (var item in menu) {\n",
    "    console.log(item + \"  $\" + menu[item].toFixed(2)) //why is toFixed used? Used for decimal places, very cool\n",
    "}\n",
    "//ideally the code should support mutliple items (I sense a misspelling in this sentence, do you?)\n",
    "var keep_going = 'N';\n",
    "var order_list = {\n",
    "    '1': 0,\n",
    "    '2': 0,\n",
    "    '3': 0\n",
    "};\n",
    "while (keep_going == 'N') {\n",
    "    order_list[prompt(\"Would you like a burger (1), some fries (2), or a drink (3)?]\")] += parseInt(prompt(\"How many would you like?\"))\n",
    "    var keep_going = prompt(\"Is that it for today? [Y/N]\").toUpperCase() //the toUpperCase makes sure a lowercase y or n is still accepted\n",
    "}\n",
    "\n",
    "\n",
    "//code should add the price of the menu items selected by the user \n",
    "total += menu['burger'] * order_list['1']\n",
    "total += menu['fries'] * order_list['2']\n",
    "total += menu['drink'] * order_list['3']\n",
    "\n",
    "total *= 1.0725\n",
    "var tip = parseInt(prompt(\"Please put the amount in $ that you would like to tip: \"))\n",
    "\n",
    "console.log('$' + total.toFixed(1) + tip)"
   ]
  },
  {
   "cell_type": "markdown",
   "metadata": {},
   "source": [
    "## ChatGPT Review\n",
    "\n",
    "**Pros:**\n",
    "\n",
    "1. **User-Friendly:** The code is user-friendly, as it provides a clear menu and prompts the user for their orders, making the ordering process straightforward.\n",
    "\n",
    "2. **Modular:** It breaks down the logic into manageable sections, such as menu initialization, order tracking, and calculating the total. This makes it easier to understand and maintain.\n",
    "\n",
    "3. **Error Handling:** The code attempts to handle lowercase 'y' and 'n' inputs by converting them to uppercase, ensuring consistency.\n",
    "\n",
    "**Areas for Improvement:**\n",
    "\n",
    "1. **Validation:** The code lacks input validation. It assumes that the user will always enter valid choices and quantities. It would be better to include validation to handle cases where the user enters non-numeric quantities or selects invalid menu items.\n",
    "\n",
    "2. **Comments:** While there are comments in the code, some comments could be more descriptive. For example, comments could explain the purpose of specific calculations or the reason behind using certain constants (e.g., 1.0725 for tax).\n",
    "\n",
    "3. **Code Reusability:** The code is designed for a specific menu with three items (burger, fries, and drink) and hardcoded keys in the `order_list`. To make it more versatile, you could allow for dynamic menu creation, where the menu items and their prices are stored in an array or another data structure, allowing for a variable number of items.\n",
    "\n",
    "4. **Error Handling:** In case the user enters an invalid menu choice or quantity, it would be beneficial to provide feedback and give the user a chance to correct their input rather than potentially causing errors.\n",
    "\n",
    "5. **Modular Functions:** Consider breaking down the code into smaller, reusable functions. For example, you could have separate functions for displaying the menu, taking orders, calculating totals, and handling tax and tips. This would make the code more organized and easier to test and maintain.\n",
    "\n",
    "6. **Output Formatting:** The final output of the total could benefit from more descriptive formatting. For instance, you could include labels to specify the subtotal, tax amount, tip amount, and the final total.\n",
    "\n",
    "7. **Error Handling for Tip Input:** The code assumes the user will enter a valid integer for the tip. Adding input validation and error handling for the tip input would make the code more robust.\n",
    "\n",
    "8. **Currency Formatting:** Depending on the locale, it's advisable to use proper currency formatting functions to display currency values, especially when dealing with user input for money.\n",
    "\n",
    "Overall, the code provides a good starting point for a simple menu ordering system but could benefit from enhancements to handle user input errors, offer more flexibility, and provide improved feedback and formatting for the final total."
   ]
  },
  {
   "cell_type": "markdown",
   "metadata": {},
   "source": [
    "## Hacks\n",
    "- Fix the errors in the first three segments in this notebook and say what you changed in the code cell under \"What I Changed\" (Challenge is optional)"
   ]
  }
 ],
 "metadata": {
  "kernelspec": {
   "display_name": "Python 3 (ipykernel)",
   "language": "python",
   "name": "python3"
  },
  "language_info": {
   "codemirror_mode": {
    "name": "ipython",
    "version": 3
   },
   "file_extension": ".py",
   "mimetype": "text/x-python",
   "name": "python",
   "nbconvert_exporter": "python",
   "pygments_lexer": "ipython3",
   "version": "3.11.5"
  },
  "vscode": {
   "interpreter": {
    "hash": "aee8b7b246df8f9039afb4144a1f6fd8d2ca17a180786b69acc140d282b71a49"
   }
  }
 },
 "nbformat": 4,
 "nbformat_minor": 4
}
