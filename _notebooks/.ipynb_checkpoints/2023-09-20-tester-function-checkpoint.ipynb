{
 "cells": [
  {
   "cell_type": "markdown",
   "metadata": {},
   "source": [
    "---\n",
    "# this is YAML front matter\n",
    "toc: true\n",
    "comments: true\n",
    "layout: post\n",
    "title: Tester Function\n",
    "description: Testing a python flask server hosting \n",
    "courses: { compsci: { week: 5 }}\n",
    "type: hacks\n",
    "---"
   ]
  },
  {
   "cell_type": "markdown",
   "metadata": {},
   "source": [
    "# Simple Flask Server"
   ]
  },
  {
   "cell_type": "code",
   "execution_count": 1,
   "metadata": {},
   "outputs": [],
   "source": [
    "%%python --bg\n",
    "\n",
    "from flask import Flask, request, jsonify\n",
    "from flask_cors import CORS\n",
    "\n",
    "# initialize a flask application (app)\n",
    "app = Flask(__name__)\n",
    "CORS(app, supports_credentials=True, origins=\"*\")  # Allow all origins (*)\n",
    "\n",
    "users = [\"advik\", \"aashray\", \"akhil\", \"srijan\"]\n",
    "\n",
    "@app.route(\"/\", methods=[\"GET\", \"POST\"])\n",
    "def index():\n",
    "    if request.method == \"POST\":\n",
    "        # Get the user data from the form\n",
    "        user_data = request.form.get(\"user\")\n",
    "        if user_data:\n",
    "            # Add the user to the list\n",
    "            users.append(user_data)\n",
    "            return \"\"\"\n",
    "            <p>User added successfully!</p>\n",
    "            <br>\n",
    "            <a href=\"/users\"><button>View Users</button></a>\"\"\"\n",
    "    \n",
    "    # Display the form to add a user\n",
    "    return \"\"\"\n",
    "        <form method=\"POST\" action=\"/\">\n",
    "            <label for=\"user\">Add a user:</label>\n",
    "            <input type=\"text\" id=\"user\" name=\"user\" required>\n",
    "            <input type=\"submit\" value=\"Submit\">\n",
    "        </form>\n",
    "        <br>\n",
    "        <a href=\"/users\"><button>View Users</button></a>\n",
    "    \"\"\"\n",
    "@app.route(\"/users\", methods=[\"GET\"])\n",
    "def show_users():\n",
    "    # Return the list of users in JSON format\n",
    "    return jsonify(users)\n",
    "\n",
    "if __name__ == \"__main__\":\n",
    "    # starts flask server on default port, http://127.0.0.1:5001\n",
    "    from werkzeug.serving import run_simple\n",
    "    run_simple(\"localhost\", 5001, app)"
   ]
  },
  {
   "cell_type": "markdown",
   "metadata": {},
   "source": [
    "# Tester Function"
   ]
  },
  {
   "cell_type": "code",
   "execution_count": null,
   "metadata": {},
   "outputs": [],
   "source": [
    "import requests\n",
    "\n",
    "# Tester program to check any function that returns something\n",
    "def tester(result, expected_result):\n",
    "    try:\n",
    "        # Validate the functionality\n",
    "        if result == expected_result:\n",
    "            print(\"Users match! Everything is secure!\")\n",
    "        else:\n",
    "            print(\"Users did not match!! Check immediately!\")\n",
    "    except Exception as e:\n",
    "        # Handle exceptions gracefully\n",
    "        print(f\"Test failed: An error occurred - {str(e)}\")\n",
    "\n",
    "def get_users():\n",
    "    req = requests.get(\"http://localhost:5001/users\")\n",
    "    userlst = req.text\n",
    "    charlist = [\"'\", '\"', \"[\", \"]\", \"\\n\"]\n",
    "    for i in charlist:\n",
    "        userlst = userlst.replace(i, \"\")\n",
    "    userlst = userlst.strip().split(\",\")\n",
    "    req.close()\n",
    "    return userlst\n",
    "\n",
    "tester(get_users(), [\"advik\", \"aashray\", \"akhil\", \"srijan\"])"
   ]
  }
 ],
 "metadata": {
  "kernelspec": {
   "display_name": "Python 3 (ipykernel)",
   "language": "python",
   "name": "python3"
  },
  "language_info": {
   "codemirror_mode": {
    "name": "ipython",
    "version": 3
   },
   "file_extension": ".py",
   "mimetype": "text/x-python",
   "name": "python",
   "nbconvert_exporter": "python",
   "pygments_lexer": "ipython3",
   "version": "3.10.12"
  }
 },
 "nbformat": 4,
 "nbformat_minor": 2
}
