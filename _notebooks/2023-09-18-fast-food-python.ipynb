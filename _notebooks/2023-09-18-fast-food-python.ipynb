{
 "cells": [
  {
   "cell_type": "markdown",
   "metadata": {},
   "source": [
    "---\n",
    "# this is YAML front matter\n",
    "toc: true\n",
    "comments: true\n",
    "layout: post\n",
    "title: Fast Food Python\n",
    "description: Ordering a meal through python I/O\n",
    "courses: { compsci: { week: 5 }}\n",
    "type: hacks\n",
    "---"
   ]
  },
  {
   "cell_type": "markdown",
   "metadata": {},
   "source": [
    "# Python Code to Collect an Order"
   ]
  },
  {
   "cell_type": "code",
   "execution_count": null,
   "metadata": {},
   "outputs": [],
   "source": [
    "menu =  {\"burger\": 3.99,\n",
    "         \"wings\": 3.50,\n",
    "         \"fries\": 2.50,\n",
    "         \"chips\": 1.99,\n",
    "         \"soda\": 0.99}\n",
    "total = 0\n",
    "\n",
    "#shows the user the menu and prompts them to select an item\n",
    "print(\"Menu:\")\n",
    "print(\"-------------------------------\")\n",
    "for k,v in menu.items():\n",
    "    print(k + \"  $\" + str(v)) #why does v have \"str\" in front of it?\n",
    "\n",
    "yn = \"y\"\n",
    "\n",
    "while yn == \"y\":\n",
    "    print(\"------------------------------------\")\n",
    "\n",
    "    #ideally the code should prompt the user multiple times\n",
    "    item = input(\"Please select an item from the menu\")\n",
    "\n",
    "    print(\"cost of: \" + item)\n",
    "    print(\"$\" + str(menu[item]))\n",
    "    #code should add the price of the menu items selected by the user \n",
    "    total += menu[item]\n",
    "\n",
    "    yn = input(\"Would you like to buy anything else? (y/n)\")\n",
    "\n",
    "print(\"Cost of items: \" + str(total))\n",
    "print(\"Tax: \" + str(round(0.0725*total, 2)))\n",
    "tip = input(\"Enter tip amount here: \")\n",
    "tip = tip.replace('%', '')\n",
    "tipval = (float(tip)*.01)*total\n",
    "print(\"Tip: \" + str(round(float(tipval), 2)) + \" (\" + tip + \"%)\")\n",
    "print(\"Total: \" + str(round(1.0725*total, 2) + round(float(tipval), 2)))"
   ]
  }
 ],
 "metadata": {
  "language_info": {
   "name": "python"
  },
  "orig_nbformat": 4
 },
 "nbformat": 4,
 "nbformat_minor": 2
}
